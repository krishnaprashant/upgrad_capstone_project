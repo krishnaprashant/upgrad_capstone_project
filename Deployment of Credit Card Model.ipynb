{
 "cells": [
  {
   "cell_type": "markdown",
   "id": "72c98e22",
   "metadata": {},
   "source": [
    "### Deployment\n",
    "This code takes the input as `transaction.csv` that contains transactions and generates `results.csv` as output with an extra column added named as `result`\n",
    "\n",
    "Below are the steps to use this code.\n",
    "\n",
    "1. Take the random number of transaction from `transactions.csv` file \n",
    "2. Drop the Class column\n",
    "3. Save the list of transactions as `transactions.csv` or you can build your seperate `transactions.csv` using your own inputs for `v1,v2..`\n",
    "4. Run the below code and you can find `results.csv` is generated in the same directory"
   ]
  },
  {
   "cell_type": "code",
   "execution_count": 23,
   "id": "37140c64",
   "metadata": {},
   "outputs": [],
   "source": [
    "import joblib\n",
    "import pandas as pd\n",
    "\n",
    "# load model\n",
    "model = joblib.load(\"credit_card_model\")\n",
    "\n",
    "# load list of trasactions\n",
    "transactions = pd.read_csv(\"transactions.csv\").iloc[:, 1:]\n",
    "result = []\n",
    "for index,transaction in transactions.iterrows():\n",
    "    result.append(model.predict([list(transaction)])[0])\n",
    "transactions['result'] = result\n",
    "# dump output of csv\n",
    "transactions.to_csv(\"result.csv\")"
   ]
  }
 ],
 "metadata": {
  "kernelspec": {
   "display_name": "Python 3 (ipykernel)",
   "language": "python",
   "name": "python3"
  },
  "language_info": {
   "codemirror_mode": {
    "name": "ipython",
    "version": 3
   },
   "file_extension": ".py",
   "mimetype": "text/x-python",
   "name": "python",
   "nbconvert_exporter": "python",
   "pygments_lexer": "ipython3",
   "version": "3.10.9"
  }
 },
 "nbformat": 4,
 "nbformat_minor": 5
}
